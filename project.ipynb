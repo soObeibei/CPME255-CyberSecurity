{
 "cells": [
  {
   "cell_type": "markdown",
   "metadata": {},
   "source": [
    "CPME 255 Project\n",
    "\n",
    "The objective of the course project is to apply all the skills and techniques learned during the\n",
    "course to a real-world dataset. In this project, you will:\n",
    "1. Find a real-world dataset of your choice online\n",
    "2. Parse, clean and analyze data\n",
    "3. Create visualization\n",
    "4. Ask and answer interesting research questions about the data\n",
    "5. Prepare a final report about the findings.\n",
    "Evaluation criteria:\n",
    "• You must ask and answer at least 5 questions about the dataset\n",
    "• EDA must include some statistics and visualization\n",
    "• Must include explanations apart from code\n",
    "• Must not be plagiarized i.e., copy-pasted for somewhere else. Can take some part of\n",
    "code and try to modify and create your own.\n",
    "Target Audience\n",
    "Be sure to target your report at people who may not know your area/domain well. Remember\n",
    "that you want to convey that you have done a lot of analytical work and that rigor should be\n",
    "conveyed, but not necessarily the calculations. It is important to start off so that the reader is\n",
    "interested. What aspect of this analysis interested you? You could have chosen anything, but\n",
    "you chose this particular topic. Why?\n",
    "Breadth of Analysis\n",
    "From a grade/score point of view, it is important to touch upon as many different aspects as\n",
    "you can. These include the premise, asking the right questions, data manipulation, analysis,\n",
    "visualization, and conclusion.\n",
    "Length of your report\n",
    "Typically, your report will be about 5-7 pages long. You can always include an appendix if you\n",
    "have some supplementary material that you wish to include.\n",
    "Note that several components have come together to make a good final project. It starts with\n",
    "obtaining data (it always starts with this!), cleaning the data (Data Quality), manipulating the\n",
    "data (shaping) to suit your analysis. Then you must decide on different analysis options, apply\n",
    "those techniques. Make sure you are creating different graphs but present only the ones that\n",
    "are informative. Make sure that your conclusions can be supported by your analysis, and that\n",
    "the questions that you raised are answered appropriately.\n",
    "Deliverables\n",
    "You must submit the following:\n",
    "1. The Final Report (text with graphs)\n",
    "2. Your code\n",
    "3. Data set or link\n",
    "\n"
   ]
  },
  {
   "cell_type": "code",
   "execution_count": 2,
   "metadata": {},
   "outputs": [],
   "source": [
    "#Importing Libraries      \n",
    "import pandas as pd\n",
    "import numpy as np"
   ]
  },
  {
   "cell_type": "code",
   "execution_count": 5,
   "metadata": {},
   "outputs": [
    {
     "data": {
      "text/plain": [
       "'\\nStep 1: Selecting and Loading a real-world dataset.\\n'"
      ]
     },
     "execution_count": 5,
     "metadata": {},
     "output_type": "execute_result"
    }
   ],
   "source": [
    "'''\n",
    "Step 1: Selecting and Loading a real-world dataset.\n",
    "'''"
   ]
  },
  {
   "cell_type": "code",
   "execution_count": 3,
   "metadata": {},
   "outputs": [
    {
     "data": {
      "text/plain": [
       "''"
      ]
     },
     "execution_count": 3,
     "metadata": {},
     "output_type": "execute_result"
    }
   ],
   "source": [
    "'''\n",
    "Step 2: Perform data preparation and cleaning\n",
    "• Load the dataset into Jupyter notebook\n",
    "• Explore the basic information about the data, e.g., size of data ranges, some basic\n",
    "statistics etc.\n",
    "• Handle missing, incorrect and invalid data\n",
    "• Perform any additional steps (parsing dates, feature engineering, create additional\n",
    "columns etc.)\n",
    "\n",
    "We can borrow homework 2's code here\n",
    "'''"
   ]
  },
  {
   "cell_type": "code",
   "execution_count": null,
   "metadata": {},
   "outputs": [],
   "source": [
    "'''\n",
    "Step 3: Perform exploratory analysis and visualization\n",
    "• Compute statistics for numeric columns\n",
    "• Explore distribution of numeric columns using histograms etc.\n",
    "• Explore relationship between various columns\n",
    "• Make a note of interesting insights from the exploratory analysis\n",
    "'''"
   ]
  },
  {
   "cell_type": "code",
   "execution_count": null,
   "metadata": {},
   "outputs": [],
   "source": [
    "'''\n",
    "Step 4: Ask and answer questions about the data\n",
    "• Ask at least 5 questions about your dataset\n",
    "• Answer the questions either by computing the results or by plotting graphs\n",
    "• Create new columns, merge multiple datasets, and perform grouping/aggregation\n",
    "whenever necessary\n",
    "'''\n"
   ]
  },
  {
   "cell_type": "code",
   "execution_count": null,
   "metadata": {},
   "outputs": [],
   "source": [
    "'''\n",
    "Step 5: Summarize your inferences and write a conclusion\n",
    "• Write a summary of what you've learned from the analysis\n",
    "• Include interesting insights and graphs from previous sections\n",
    "• Share ideas for future work\n",
    "• Share the links to resources used\n",
    "'''"
   ]
  }
 ],
 "metadata": {
  "kernelspec": {
   "display_name": "Python 3",
   "language": "python",
   "name": "python3"
  },
  "language_info": {
   "codemirror_mode": {
    "name": "ipython",
    "version": 3
   },
   "file_extension": ".py",
   "mimetype": "text/x-python",
   "name": "python",
   "nbconvert_exporter": "python",
   "pygments_lexer": "ipython3",
   "version": "3.10.0"
  }
 },
 "nbformat": 4,
 "nbformat_minor": 2
}
